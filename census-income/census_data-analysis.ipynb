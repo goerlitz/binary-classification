{
 "cells": [
  {
   "cell_type": "markdown",
   "metadata": {},
   "source": [
    "# Census Data - salary > $50k"
   ]
  },
  {
   "cell_type": "code",
   "execution_count": 1,
   "metadata": {},
   "outputs": [
    {
     "ename": "NameError",
     "evalue": "name 'pd' is not defined",
     "output_type": "error",
     "traceback": [
      "\u001b[0;31m---------------------------------------------------------------------------\u001b[0m",
      "\u001b[0;31mNameError\u001b[0m                                 Traceback (most recent call last)",
      "\u001b[0;32m<ipython-input-1-0a5a6b216216>\u001b[0m in \u001b[0;36m<module>\u001b[0;34m\u001b[0m\n\u001b[1;32m     19\u001b[0m         \u001b[0mdata\u001b[0m\u001b[0;34m.\u001b[0m\u001b[0mto_csv\u001b[0m\u001b[0;34m(\u001b[0m\u001b[0mdata_file\u001b[0m\u001b[0;34m,\u001b[0m \u001b[0mindex\u001b[0m\u001b[0;34m=\u001b[0m\u001b[0;32mFalse\u001b[0m\u001b[0;34m)\u001b[0m\u001b[0;34m\u001b[0m\u001b[0;34m\u001b[0m\u001b[0m\n\u001b[1;32m     20\u001b[0m \u001b[0;32melse\u001b[0m\u001b[0;34m:\u001b[0m\u001b[0;34m\u001b[0m\u001b[0;34m\u001b[0m\u001b[0m\n\u001b[0;32m---> 21\u001b[0;31m     \u001b[0mdata\u001b[0m \u001b[0;34m=\u001b[0m \u001b[0mpd\u001b[0m\u001b[0;34m.\u001b[0m\u001b[0mread_csv\u001b[0m\u001b[0;34m(\u001b[0m\u001b[0mdata_file\u001b[0m\u001b[0;34m)\u001b[0m\u001b[0;34m\u001b[0m\u001b[0;34m\u001b[0m\u001b[0m\n\u001b[0m",
      "\u001b[0;31mNameError\u001b[0m: name 'pd' is not defined"
     ]
    }
   ],
   "source": [
    "import os.path\n",
    "import re\n",
    "import pandas as pd\n",
    "\n",
    "data_url = 'https://archive.ics.uci.edu/ml/machine-learning-databases/adult/'\n",
    "data_file = 'data/census.csv'\n",
    "\n",
    "if not os.path.isdir(data_file.split('/')[0]):\n",
    "    os.makedirs(data_file.split('/')[0])\n",
    "\n",
    "if not os.path.isfile(data_file):\n",
    "    print('fetching data from', data_url)\n",
    "    \n",
    "    def get_attr(line): return re.findall('^([a-zA-Z-]+):', line)[0].replace('-','_')\n",
    "    with urlopen(data_url+'adult.names') as response:\n",
    "        text = response.read().decode('utf-8')\n",
    "        attr = [get_attr(s) for s in text.split('\\n') if (len(s)>0 and s[0].isalpha())] + ['label']\n",
    "        \n",
    "        data = pd.read_csv(data_url+'adult.data', header=None, names=attr)\n",
    "        data.to_csv(data_file, index=False)\n",
    "else:\n",
    "    data = pd.read_csv(data_file)"
   ]
  },
  {
   "cell_type": "code",
   "execution_count": null,
   "metadata": {},
   "outputs": [],
   "source": [
    "data.head()"
   ]
  },
  {
   "cell_type": "code",
   "execution_count": null,
   "metadata": {},
   "outputs": [],
   "source": [
    "data.shape"
   ]
  },
  {
   "cell_type": "code",
   "execution_count": null,
   "metadata": {},
   "outputs": [],
   "source": [
    "from pandas_profiling import ProfileReport\n",
    "\n",
    "report = ProfileReport(data)\n",
    "report.to_file(outputfile=\"census_data_profile.html\")"
   ]
  },
  {
   "cell_type": "code",
   "execution_count": null,
   "metadata": {},
   "outputs": [],
   "source": [
    "import matplotlib.pyplot as plt\n",
    "\n",
    "def corrplot(df, title=None):\n",
    "    var_count = df.shape[1]\n",
    "    fig, ax = plt.subplots(figsize=(var_count*0.5,var_count*0.5))\n",
    "    sns.heatmap(df.corr(), vmin=-1, vmax=1, center=0, cmap='RdBu', annot=True, fmt= '.1f', linewidths=.5, ax=ax, cbar_kws={\"ticks\":[-1,0,1]});\n",
    "    ax.tick_params(axis='x', which='major', labeltop=True, bottom=False, labelbottom=False, color='grey', rotation=90, pad=1.5)\n",
    "    ax.tick_params(axis='y', which='major', left=False, color='grey', pad=1.5)\n",
    "    plt.title(title,pad=120, size=20)\n",
    "\n",
    "corrplot(X, 'Feature Correlation')"
   ]
  }
 ],
 "metadata": {
  "kernelspec": {
   "display_name": "Python 3",
   "language": "python",
   "name": "python3"
  },
  "language_info": {
   "codemirror_mode": {
    "name": "ipython",
    "version": 3
   },
   "file_extension": ".py",
   "mimetype": "text/x-python",
   "name": "python",
   "nbconvert_exporter": "python",
   "pygments_lexer": "ipython3",
   "version": "3.6.8"
  }
 },
 "nbformat": 4,
 "nbformat_minor": 2
}
