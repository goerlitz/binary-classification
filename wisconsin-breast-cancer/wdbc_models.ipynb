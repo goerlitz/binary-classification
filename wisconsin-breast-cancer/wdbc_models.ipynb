{
 "cells": [
  {
   "cell_type": "markdown",
   "metadata": {},
   "source": [
    "# Wisconsin Diagnostic Breast Cancer\n",
    "\n",
    "569 instances with breast cancer dignosis (212 malignant, 357 benign) and 30 predictor variables.\n",
    "\n",
    "See also original [UCI source](https://archive.ics.uci.edu/ml/datasets/Breast+Cancer+Wisconsin+%28Diagnostic%29).\n",
    "\n",
    "This dataset contains only continuous numeric data and has no missing values.\n",
    "It allows for very good prediction results without further feature engineering.\n",
    "Hence, is a good dataset for comparing different binary classification models."
   ]
  },
  {
   "cell_type": "code",
   "execution_count": 1,
   "metadata": {},
   "outputs": [],
   "source": [
    "from time import time\n",
    "import numpy as np\n",
    "import pandas as pd\n",
    "import sklearn.datasets as datasets\n",
    "import matplotlib.pyplot as plt\n",
    "import seaborn as sns"
   ]
  },
  {
   "cell_type": "code",
   "execution_count": 2,
   "metadata": {},
   "outputs": [
    {
     "data": {
      "text/html": [
       "<div>\n",
       "<style scoped>\n",
       "    .dataframe tbody tr th:only-of-type {\n",
       "        vertical-align: middle;\n",
       "    }\n",
       "\n",
       "    .dataframe tbody tr th {\n",
       "        vertical-align: top;\n",
       "    }\n",
       "\n",
       "    .dataframe thead th {\n",
       "        text-align: right;\n",
       "    }\n",
       "</style>\n",
       "<table border=\"1\" class=\"dataframe\">\n",
       "  <thead>\n",
       "    <tr style=\"text-align: right;\">\n",
       "      <th></th>\n",
       "      <th>mean radius</th>\n",
       "      <th>mean texture</th>\n",
       "      <th>mean perimeter</th>\n",
       "      <th>mean area</th>\n",
       "      <th>mean smoothness</th>\n",
       "      <th>mean compactness</th>\n",
       "      <th>mean concavity</th>\n",
       "      <th>mean concave points</th>\n",
       "      <th>mean symmetry</th>\n",
       "      <th>mean fractal dimension</th>\n",
       "      <th>...</th>\n",
       "      <th>worst radius</th>\n",
       "      <th>worst texture</th>\n",
       "      <th>worst perimeter</th>\n",
       "      <th>worst area</th>\n",
       "      <th>worst smoothness</th>\n",
       "      <th>worst compactness</th>\n",
       "      <th>worst concavity</th>\n",
       "      <th>worst concave points</th>\n",
       "      <th>worst symmetry</th>\n",
       "      <th>worst fractal dimension</th>\n",
       "    </tr>\n",
       "  </thead>\n",
       "  <tbody>\n",
       "    <tr>\n",
       "      <th>0</th>\n",
       "      <td>17.99</td>\n",
       "      <td>10.38</td>\n",
       "      <td>122.80</td>\n",
       "      <td>1001.0</td>\n",
       "      <td>0.11840</td>\n",
       "      <td>0.27760</td>\n",
       "      <td>0.3001</td>\n",
       "      <td>0.14710</td>\n",
       "      <td>0.2419</td>\n",
       "      <td>0.07871</td>\n",
       "      <td>...</td>\n",
       "      <td>25.38</td>\n",
       "      <td>17.33</td>\n",
       "      <td>184.60</td>\n",
       "      <td>2019.0</td>\n",
       "      <td>0.1622</td>\n",
       "      <td>0.6656</td>\n",
       "      <td>0.7119</td>\n",
       "      <td>0.2654</td>\n",
       "      <td>0.4601</td>\n",
       "      <td>0.11890</td>\n",
       "    </tr>\n",
       "    <tr>\n",
       "      <th>1</th>\n",
       "      <td>20.57</td>\n",
       "      <td>17.77</td>\n",
       "      <td>132.90</td>\n",
       "      <td>1326.0</td>\n",
       "      <td>0.08474</td>\n",
       "      <td>0.07864</td>\n",
       "      <td>0.0869</td>\n",
       "      <td>0.07017</td>\n",
       "      <td>0.1812</td>\n",
       "      <td>0.05667</td>\n",
       "      <td>...</td>\n",
       "      <td>24.99</td>\n",
       "      <td>23.41</td>\n",
       "      <td>158.80</td>\n",
       "      <td>1956.0</td>\n",
       "      <td>0.1238</td>\n",
       "      <td>0.1866</td>\n",
       "      <td>0.2416</td>\n",
       "      <td>0.1860</td>\n",
       "      <td>0.2750</td>\n",
       "      <td>0.08902</td>\n",
       "    </tr>\n",
       "    <tr>\n",
       "      <th>2</th>\n",
       "      <td>19.69</td>\n",
       "      <td>21.25</td>\n",
       "      <td>130.00</td>\n",
       "      <td>1203.0</td>\n",
       "      <td>0.10960</td>\n",
       "      <td>0.15990</td>\n",
       "      <td>0.1974</td>\n",
       "      <td>0.12790</td>\n",
       "      <td>0.2069</td>\n",
       "      <td>0.05999</td>\n",
       "      <td>...</td>\n",
       "      <td>23.57</td>\n",
       "      <td>25.53</td>\n",
       "      <td>152.50</td>\n",
       "      <td>1709.0</td>\n",
       "      <td>0.1444</td>\n",
       "      <td>0.4245</td>\n",
       "      <td>0.4504</td>\n",
       "      <td>0.2430</td>\n",
       "      <td>0.3613</td>\n",
       "      <td>0.08758</td>\n",
       "    </tr>\n",
       "    <tr>\n",
       "      <th>3</th>\n",
       "      <td>11.42</td>\n",
       "      <td>20.38</td>\n",
       "      <td>77.58</td>\n",
       "      <td>386.1</td>\n",
       "      <td>0.14250</td>\n",
       "      <td>0.28390</td>\n",
       "      <td>0.2414</td>\n",
       "      <td>0.10520</td>\n",
       "      <td>0.2597</td>\n",
       "      <td>0.09744</td>\n",
       "      <td>...</td>\n",
       "      <td>14.91</td>\n",
       "      <td>26.50</td>\n",
       "      <td>98.87</td>\n",
       "      <td>567.7</td>\n",
       "      <td>0.2098</td>\n",
       "      <td>0.8663</td>\n",
       "      <td>0.6869</td>\n",
       "      <td>0.2575</td>\n",
       "      <td>0.6638</td>\n",
       "      <td>0.17300</td>\n",
       "    </tr>\n",
       "    <tr>\n",
       "      <th>4</th>\n",
       "      <td>20.29</td>\n",
       "      <td>14.34</td>\n",
       "      <td>135.10</td>\n",
       "      <td>1297.0</td>\n",
       "      <td>0.10030</td>\n",
       "      <td>0.13280</td>\n",
       "      <td>0.1980</td>\n",
       "      <td>0.10430</td>\n",
       "      <td>0.1809</td>\n",
       "      <td>0.05883</td>\n",
       "      <td>...</td>\n",
       "      <td>22.54</td>\n",
       "      <td>16.67</td>\n",
       "      <td>152.20</td>\n",
       "      <td>1575.0</td>\n",
       "      <td>0.1374</td>\n",
       "      <td>0.2050</td>\n",
       "      <td>0.4000</td>\n",
       "      <td>0.1625</td>\n",
       "      <td>0.2364</td>\n",
       "      <td>0.07678</td>\n",
       "    </tr>\n",
       "  </tbody>\n",
       "</table>\n",
       "<p>5 rows × 30 columns</p>\n",
       "</div>"
      ],
      "text/plain": [
       "   mean radius  mean texture  mean perimeter  mean area  mean smoothness  \\\n",
       "0        17.99         10.38          122.80     1001.0          0.11840   \n",
       "1        20.57         17.77          132.90     1326.0          0.08474   \n",
       "2        19.69         21.25          130.00     1203.0          0.10960   \n",
       "3        11.42         20.38           77.58      386.1          0.14250   \n",
       "4        20.29         14.34          135.10     1297.0          0.10030   \n",
       "\n",
       "   mean compactness  mean concavity  mean concave points  mean symmetry  \\\n",
       "0           0.27760          0.3001              0.14710         0.2419   \n",
       "1           0.07864          0.0869              0.07017         0.1812   \n",
       "2           0.15990          0.1974              0.12790         0.2069   \n",
       "3           0.28390          0.2414              0.10520         0.2597   \n",
       "4           0.13280          0.1980              0.10430         0.1809   \n",
       "\n",
       "   mean fractal dimension  ...  worst radius  worst texture  worst perimeter  \\\n",
       "0                 0.07871  ...         25.38          17.33           184.60   \n",
       "1                 0.05667  ...         24.99          23.41           158.80   \n",
       "2                 0.05999  ...         23.57          25.53           152.50   \n",
       "3                 0.09744  ...         14.91          26.50            98.87   \n",
       "4                 0.05883  ...         22.54          16.67           152.20   \n",
       "\n",
       "   worst area  worst smoothness  worst compactness  worst concavity  \\\n",
       "0      2019.0            0.1622             0.6656           0.7119   \n",
       "1      1956.0            0.1238             0.1866           0.2416   \n",
       "2      1709.0            0.1444             0.4245           0.4504   \n",
       "3       567.7            0.2098             0.8663           0.6869   \n",
       "4      1575.0            0.1374             0.2050           0.4000   \n",
       "\n",
       "   worst concave points  worst symmetry  worst fractal dimension  \n",
       "0                0.2654          0.4601                  0.11890  \n",
       "1                0.1860          0.2750                  0.08902  \n",
       "2                0.2430          0.3613                  0.08758  \n",
       "3                0.2575          0.6638                  0.17300  \n",
       "4                0.1625          0.2364                  0.07678  \n",
       "\n",
       "[5 rows x 30 columns]"
      ]
     },
     "metadata": {},
     "output_type": "display_data"
    }
   ],
   "source": [
    "data = datasets.load_breast_cancer()\n",
    "#print(data['DESCR'])\n",
    "\n",
    "X = pd.DataFrame(data['data'], columns=data['feature_names'])\n",
    "y = pd.Series(data['target'], name='target')\n",
    "display(X.head())"
   ]
  },
  {
   "cell_type": "markdown",
   "metadata": {},
   "source": [
    "# Split training and test data"
   ]
  },
  {
   "cell_type": "code",
   "execution_count": 3,
   "metadata": {},
   "outputs": [
    {
     "name": "stdout",
     "output_type": "stream",
     "text": [
      "train:  (398, 30) , test: (171, 30)\n"
     ]
    }
   ],
   "source": [
    "from sklearn.model_selection import train_test_split\n",
    "\n",
    "X_train, X_test, y_train, y_test = train_test_split(X, y, test_size=0.3, random_state=42)\n",
    "print(\"train: \", X_train.shape, ', test:', X_test.shape)"
   ]
  },
  {
   "cell_type": "markdown",
   "metadata": {},
   "source": [
    "# Model Training\n",
    "\n",
    "Train and evaluate following models\n",
    "\n",
    "* Logistic Regression\n",
    "* Multi-layer Perceptron\n",
    "* XGBoost\n",
    "\n",
    "**Helper functions for visualizing model results:**"
   ]
  },
  {
   "cell_type": "code",
   "execution_count": 4,
   "metadata": {},
   "outputs": [],
   "source": [
    "from sklearn.metrics import roc_auc_score, roc_curve, auc, classification_report\n",
    "\n",
    "def show_results(y_true, y_hat, title=None, threshold=0.5, youden=True, report=True):\n",
    "    \n",
    "    fig, axs = plt.subplots(2,2, figsize=(8,6))\n",
    "    axs = axs.ravel()\n",
    "    \n",
    "    fpr, tpr, thres = roc_curve(y_test, y_hat)\n",
    "    if youden:\n",
    "        threshold = thres[np.where(tpr-fpr == max(tpr-fpr))][0]\n",
    "    \n",
    "    # histogram of predicted probabilities\n",
    "    axs[0].hist([y_hat[y_true==1], y_hat[y_true==0]], stacked=True, label=[1,0], bins=25)\n",
    "    axs[0].axvline(x=0.5, color='grey', linestyle='--')\n",
    "    if youden:\n",
    "        axs[0].axvline(x=threshold, color='r', linestyle='--', label=f'Youden: {threshold:.3f}')\n",
    "    axs[0].set_title('Predicted Probabilities')\n",
    "    axs[0].legend(loc='upper center')\n",
    "    \n",
    "    # roc curve\n",
    "    axs[1].plot(fpr, tpr, label='ROC curve (area = %0.3f)' % auc(fpr, tpr))\n",
    "    axs[1].plot([0, 1], [0, 1], 'k--')\n",
    "    axs[1].set_xlim([0.0, 1.0])\n",
    "    axs[1].set_ylim([0.0, 1.05])\n",
    "    axs[1].set_xlabel('FPR')\n",
    "    axs[1].set_ylabel('TPR')\n",
    "    axs[1].set_title('ROC (AUC=%0.3f)' % auc(fpr, tpr))\n",
    "    \n",
    "    # roc thresholds\n",
    "    axs[3].plot(thres[1:], 'o--')\n",
    "    axs[3].set_title('ROC Thresholds')\n",
    "    \n",
    "    # confusion_matrix\n",
    "    cf = pd.crosstab(y_true, y_hat >= threshold, rownames=['Predicted'], colnames=['Actual']).astype(int)\n",
    "    sns.heatmap(cf, cmap='Blues', annot=True, ax=axs[2], cbar=False, fmt='g')\n",
    "    axs[2].set_title(f'Confusion Matrix (threshold={threshold:.2f})')\n",
    "    \n",
    "    fig.suptitle(title)\n",
    "    fig.tight_layout()\n",
    "    fig.subplots_adjust(top=0.88)\n",
    "    \n",
    "    if report:\n",
    "        print(classification_report(y_test, y_hat >= threshold))"
   ]
  },
  {
   "cell_type": "markdown",
   "metadata": {},
   "source": [
    "## Logistic Regression"
   ]
  },
  {
   "cell_type": "code",
   "execution_count": 5,
   "metadata": {},
   "outputs": [
    {
     "name": "stdout",
     "output_type": "stream",
     "text": [
      "              precision    recall  f1-score   support\n",
      "\n",
      "           0       0.97      0.98      0.98        63\n",
      "           1       0.99      0.98      0.99       108\n",
      "\n",
      "   micro avg       0.98      0.98      0.98       171\n",
      "   macro avg       0.98      0.98      0.98       171\n",
      "weighted avg       0.98      0.98      0.98       171\n",
      "\n"
     ]
    },
    {
     "data": {
      "image/png": "[encoded data removed]",
      "text/plain": [
       "<Figure size 576x432 with 4 Axes>"
      ]
     },
     "metadata": {
      "needs_background": "light"
     },
     "output_type": "display_data"
    }
   ],
   "source": [
    "from sklearn.linear_model import LogisticRegression\n",
    "\n",
    "clf = LogisticRegression(solver='liblinear')\n",
    "clf.fit(X_train, y_train)\n",
    "\n",
    "y_hat = clf.predict_proba(X_test)[:,1]\n",
    "\n",
    "show_results(y_test, y_hat, title=\"Logistic Regression\")"
   ]
  },
  {
   "cell_type": "markdown",
   "metadata": {},
   "source": [
    "## Multi-layer Perceptron"
   ]
  },
  {
   "cell_type": "code",
   "execution_count": 6,
   "metadata": {},
   "outputs": [],
   "source": [
    "from sklearn.preprocessing import MinMaxScaler, StandardScaler\n",
    "from sklearn.neural_network import MLPClassifier\n",
    "from sklearn.pipeline import Pipeline\n",
    "\n",
    "ppl_mlp = Pipeline(steps=[\n",
    "    ('scaler', MinMaxScaler()),\n",
    "    ('mlp', MLPClassifier(max_iter=2000))\n",
    "])"
   ]
  },
  {
   "cell_type": "code",
   "execution_count": 7,
   "metadata": {},
   "outputs": [
    {
     "name": "stdout",
     "output_type": "stream",
     "text": [
      "-> took 1.7 seconds\n"
     ]
    },
    {
     "data": {
      "image/png": "[encoded data removed]",
      "text/plain": [
       "<Figure size 432x288 with 1 Axes>"
      ]
     },
     "metadata": {
      "needs_background": "light"
     },
     "output_type": "display_data"
    }
   ],
   "source": [
    "start = time()\n",
    "ppl_mlp.fit(X_train, y_train)\n",
    "print('-> took %.1f seconds' % (time() - start))\n",
    "\n",
    "def show_loss(clf):\n",
    "    plt.plot(clf.loss_curve_, label=f\"Loss={clf.loss_:0.3f}\")\n",
    "    plt.legend()\n",
    "\n",
    "show_loss(ppl_mlp.named_steps['mlp'])"
   ]
  },
  {
   "cell_type": "code",
   "execution_count": 8,
   "metadata": {},
   "outputs": [
    {
     "name": "stdout",
     "output_type": "stream",
     "text": [
      "              precision    recall  f1-score   support\n",
      "\n",
      "           0       0.97      0.98      0.98        63\n",
      "           1       0.99      0.98      0.99       108\n",
      "\n",
      "   micro avg       0.98      0.98      0.98       171\n",
      "   macro avg       0.98      0.98      0.98       171\n",
      "weighted avg       0.98      0.98      0.98       171\n",
      "\n"
     ]
    },
    {
     "data": {
      "image/png": "[encoded data removed]",
      "text/plain": [
       "<Figure size 576x432 with 4 Axes>"
      ]
     },
     "metadata": {
      "needs_background": "light"
     },
     "output_type": "display_data"
    }
   ],
   "source": [
    "y_hat = ppl_mlp.predict_proba(X_test)[:,1]\n",
    "\n",
    "show_results(y_test, y_hat, title=\"MLP\")"
   ]
  },
  {
   "cell_type": "code",
   "execution_count": 9,
   "metadata": {},
   "outputs": [
    {
     "name": "stdout",
     "output_type": "stream",
     "text": [
      "Fitting 10 folds for each of 32 candidates, totalling 320 fits\n"
     ]
    },
    {
     "name": "stderr",
     "output_type": "stream",
     "text": [
      "[Parallel(n_jobs=4)]: Using backend LokyBackend with 4 concurrent workers.\n",
      "[Parallel(n_jobs=4)]: Done  42 tasks      | elapsed:   13.7s\n",
      "[Parallel(n_jobs=4)]: Done 192 tasks      | elapsed:  1.1min\n",
      "[Parallel(n_jobs=4)]: Done 320 out of 320 | elapsed:  2.1min finished\n"
     ]
    },
    {
     "name": "stdout",
     "output_type": "stream",
     "text": [
      "-> took 129.7 seconds\n"
     ]
    }
   ],
   "source": [
    "from sklearn.model_selection import GridSearchCV\n",
    "\n",
    "params = {\n",
    "    'mlp__hidden_layer_sizes': [ (32), (16), (32, 16), (16, 16) ],\n",
    "    'mlp__alpha': [ 1e-5, 1e-6 ],\n",
    "    'mlp__activation': [\"logistic\", \"relu\"],\n",
    "    'mlp__solver' : ['adam', 'sgd'] # sgd is faster but adam is better\n",
    "}\n",
    "\n",
    "gs = GridSearchCV(\n",
    "    estimator=ppl_mlp,\n",
    "    param_grid=params,\n",
    "    n_jobs=4,\n",
    "    cv=10,\n",
    "    scoring=\"roc_auc\", # neg_log_loss, f1, average_precision, balanced_accuracy\n",
    "    return_train_score=True,\n",
    "    iid=False,\n",
    "    refit=True,\n",
    "    verbose=1)\n",
    "\n",
    "start = time()\n",
    "gs.fit(X_train, y_train)\n",
    "print('-> took %.1f seconds' % (time() - start))"
   ]
  },
  {
   "cell_type": "code",
   "execution_count": 10,
   "metadata": {},
   "outputs": [
    {
     "data": {
      "text/html": [
       "<div>\n",
       "<style scoped>\n",
       "    .dataframe tbody tr th:only-of-type {\n",
       "        vertical-align: middle;\n",
       "    }\n",
       "\n",
       "    .dataframe tbody tr th {\n",
       "        vertical-align: top;\n",
       "    }\n",
       "\n",
       "    .dataframe thead th {\n",
       "        text-align: right;\n",
       "    }\n",
       "</style>\n",
       "<table border=\"1\" class=\"dataframe\">\n",
       "  <thead>\n",
       "    <tr style=\"text-align: right;\">\n",
       "      <th></th>\n",
       "      <th>mean_fit_time</th>\n",
       "      <th>std_fit_time</th>\n",
       "      <th>mean_score_time</th>\n",
       "      <th>std_score_time</th>\n",
       "      <th>param_mlp__activation</th>\n",
       "      <th>param_mlp__alpha</th>\n",
       "      <th>param_mlp__hidden_layer_sizes</th>\n",
       "      <th>param_mlp__solver</th>\n",
       "      <th>params</th>\n",
       "      <th>split0_test_score</th>\n",
       "      <th>...</th>\n",
       "      <th>split2_train_score</th>\n",
       "      <th>split3_train_score</th>\n",
       "      <th>split4_train_score</th>\n",
       "      <th>split5_train_score</th>\n",
       "      <th>split6_train_score</th>\n",
       "      <th>split7_train_score</th>\n",
       "      <th>split8_train_score</th>\n",
       "      <th>split9_train_score</th>\n",
       "      <th>mean_train_score</th>\n",
       "      <th>std_train_score</th>\n",
       "    </tr>\n",
       "  </thead>\n",
       "  <tbody>\n",
       "    <tr>\n",
       "      <th>4</th>\n",
       "      <td>1.977077</td>\n",
       "      <td>0.352749</td>\n",
       "      <td>0.003339</td>\n",
       "      <td>0.000534</td>\n",
       "      <td>logistic</td>\n",
       "      <td>1e-05</td>\n",
       "      <td>(32, 16)</td>\n",
       "      <td>adam</td>\n",
       "      <td>{'mlp__activation': 'logistic', 'mlp__alpha': ...</td>\n",
       "      <td>1.0</td>\n",
       "      <td>...</td>\n",
       "      <td>0.999034</td>\n",
       "      <td>0.995436</td>\n",
       "      <td>0.996635</td>\n",
       "      <td>0.996002</td>\n",
       "      <td>0.996369</td>\n",
       "      <td>0.997168</td>\n",
       "      <td>0.996635</td>\n",
       "      <td>0.996115</td>\n",
       "      <td>0.996463</td>\n",
       "      <td>0.001006</td>\n",
       "    </tr>\n",
       "    <tr>\n",
       "      <th>12</th>\n",
       "      <td>2.291595</td>\n",
       "      <td>0.218159</td>\n",
       "      <td>0.004411</td>\n",
       "      <td>0.001750</td>\n",
       "      <td>logistic</td>\n",
       "      <td>1e-06</td>\n",
       "      <td>(32, 16)</td>\n",
       "      <td>adam</td>\n",
       "      <td>{'mlp__activation': 'logistic', 'mlp__alpha': ...</td>\n",
       "      <td>1.0</td>\n",
       "      <td>...</td>\n",
       "      <td>0.999300</td>\n",
       "      <td>0.995502</td>\n",
       "      <td>0.995536</td>\n",
       "      <td>0.995802</td>\n",
       "      <td>0.996202</td>\n",
       "      <td>0.997102</td>\n",
       "      <td>0.996335</td>\n",
       "      <td>0.995753</td>\n",
       "      <td>0.996354</td>\n",
       "      <td>0.001078</td>\n",
       "    </tr>\n",
       "    <tr>\n",
       "      <th>0</th>\n",
       "      <td>1.664272</td>\n",
       "      <td>0.173150</td>\n",
       "      <td>0.003439</td>\n",
       "      <td>0.000734</td>\n",
       "      <td>logistic</td>\n",
       "      <td>1e-05</td>\n",
       "      <td>32</td>\n",
       "      <td>adam</td>\n",
       "      <td>{'mlp__activation': 'logistic', 'mlp__alpha': ...</td>\n",
       "      <td>1.0</td>\n",
       "      <td>...</td>\n",
       "      <td>0.998501</td>\n",
       "      <td>0.995269</td>\n",
       "      <td>0.995402</td>\n",
       "      <td>0.995869</td>\n",
       "      <td>0.995836</td>\n",
       "      <td>0.997368</td>\n",
       "      <td>0.996469</td>\n",
       "      <td>0.995819</td>\n",
       "      <td>0.996194</td>\n",
       "      <td>0.000957</td>\n",
       "    </tr>\n",
       "    <tr>\n",
       "      <th>14</th>\n",
       "      <td>2.261411</td>\n",
       "      <td>0.181753</td>\n",
       "      <td>0.004614</td>\n",
       "      <td>0.001436</td>\n",
       "      <td>logistic</td>\n",
       "      <td>1e-06</td>\n",
       "      <td>(16, 16)</td>\n",
       "      <td>adam</td>\n",
       "      <td>{'mlp__activation': 'logistic', 'mlp__alpha': ...</td>\n",
       "      <td>1.0</td>\n",
       "      <td>...</td>\n",
       "      <td>0.998901</td>\n",
       "      <td>0.995636</td>\n",
       "      <td>0.995136</td>\n",
       "      <td>0.996202</td>\n",
       "      <td>0.996435</td>\n",
       "      <td>0.997235</td>\n",
       "      <td>0.997102</td>\n",
       "      <td>0.996346</td>\n",
       "      <td>0.996496</td>\n",
       "      <td>0.000996</td>\n",
       "    </tr>\n",
       "    <tr>\n",
       "      <th>6</th>\n",
       "      <td>2.048605</td>\n",
       "      <td>0.266030</td>\n",
       "      <td>0.003981</td>\n",
       "      <td>0.000407</td>\n",
       "      <td>logistic</td>\n",
       "      <td>1e-05</td>\n",
       "      <td>(16, 16)</td>\n",
       "      <td>adam</td>\n",
       "      <td>{'mlp__activation': 'logistic', 'mlp__alpha': ...</td>\n",
       "      <td>1.0</td>\n",
       "      <td>...</td>\n",
       "      <td>0.998901</td>\n",
       "      <td>0.995336</td>\n",
       "      <td>0.996269</td>\n",
       "      <td>0.995802</td>\n",
       "      <td>0.996502</td>\n",
       "      <td>0.996735</td>\n",
       "      <td>0.997135</td>\n",
       "      <td>0.996444</td>\n",
       "      <td>0.996456</td>\n",
       "      <td>0.000981</td>\n",
       "    </tr>\n",
       "  </tbody>\n",
       "</table>\n",
       "<p>5 rows × 34 columns</p>\n",
       "</div>"
      ],
      "text/plain": [
       "    mean_fit_time  std_fit_time  mean_score_time  std_score_time  \\\n",
       "4        1.977077      0.352749         0.003339        0.000534   \n",
       "12       2.291595      0.218159         0.004411        0.001750   \n",
       "0        1.664272      0.173150         0.003439        0.000734   \n",
       "14       2.261411      0.181753         0.004614        0.001436   \n",
       "6        2.048605      0.266030         0.003981        0.000407   \n",
       "\n",
       "   param_mlp__activation param_mlp__alpha param_mlp__hidden_layer_sizes  \\\n",
       "4               logistic            1e-05                      (32, 16)   \n",
       "12              logistic            1e-06                      (32, 16)   \n",
       "0               logistic            1e-05                            32   \n",
       "14              logistic            1e-06                      (16, 16)   \n",
       "6               logistic            1e-05                      (16, 16)   \n",
       "\n",
       "   param_mlp__solver                                             params  \\\n",
       "4               adam  {'mlp__activation': 'logistic', 'mlp__alpha': ...   \n",
       "12              adam  {'mlp__activation': 'logistic', 'mlp__alpha': ...   \n",
       "0               adam  {'mlp__activation': 'logistic', 'mlp__alpha': ...   \n",
       "14              adam  {'mlp__activation': 'logistic', 'mlp__alpha': ...   \n",
       "6               adam  {'mlp__activation': 'logistic', 'mlp__alpha': ...   \n",
       "\n",
       "    split0_test_score  ...  split2_train_score  split3_train_score  \\\n",
       "4                 1.0  ...            0.999034            0.995436   \n",
       "12                1.0  ...            0.999300            0.995502   \n",
       "0                 1.0  ...            0.998501            0.995269   \n",
       "14                1.0  ...            0.998901            0.995636   \n",
       "6                 1.0  ...            0.998901            0.995336   \n",
       "\n",
       "    split4_train_score  split5_train_score  split6_train_score  \\\n",
       "4             0.996635            0.996002            0.996369   \n",
       "12            0.995536            0.995802            0.996202   \n",
       "0             0.995402            0.995869            0.995836   \n",
       "14            0.995136            0.996202            0.996435   \n",
       "6             0.996269            0.995802            0.996502   \n",
       "\n",
       "    split7_train_score  split8_train_score  split9_train_score  \\\n",
       "4             0.997168            0.996635            0.996115   \n",
       "12            0.997102            0.996335            0.995753   \n",
       "0             0.997368            0.996469            0.995819   \n",
       "14            0.997235            0.997102            0.996346   \n",
       "6             0.996735            0.997135            0.996444   \n",
       "\n",
       "    mean_train_score  std_train_score  \n",
       "4           0.996463         0.001006  \n",
       "12          0.996354         0.001078  \n",
       "0           0.996194         0.000957  \n",
       "14          0.996496         0.000996  \n",
       "6           0.996456         0.000981  \n",
       "\n",
       "[5 rows x 34 columns]"
      ]
     },
     "execution_count": 10,
     "metadata": {},
     "output_type": "execute_result"
    }
   ],
   "source": [
    "pd.DataFrame(gs.cv_results_).sort_values('rank_test_score').head()"
   ]
  },
  {
   "cell_type": "code",
   "execution_count": 11,
   "metadata": {},
   "outputs": [
    {
     "name": "stdout",
     "output_type": "stream",
     "text": [
      "{'mlp__activation': 'logistic', 'mlp__alpha': 1e-05, 'mlp__hidden_layer_sizes': (32, 16), 'mlp__solver': 'adam'}\n"
     ]
    },
    {
     "data": {
      "image/png": "[encoded data removed]",
      "text/plain": [
       "<Figure size 432x288 with 1 Axes>"
      ]
     },
     "metadata": {
      "needs_background": "light"
     },
     "output_type": "display_data"
    }
   ],
   "source": [
    "print(gs.best_params_)\n",
    "gs.best_estimator_.fit(X_train, y_train);\n",
    "clf = gs.best_estimator_.named_steps['mlp']\n",
    "\n",
    "show_loss(gs.best_estimator_.named_steps['mlp'])"
   ]
  },
  {
   "cell_type": "code",
   "execution_count": 12,
   "metadata": {},
   "outputs": [
    {
     "name": "stdout",
     "output_type": "stream",
     "text": [
      "              precision    recall  f1-score   support\n",
      "\n",
      "           0       1.00      0.98      0.99        63\n",
      "           1       0.99      1.00      1.00       108\n",
      "\n",
      "   micro avg       0.99      0.99      0.99       171\n",
      "   macro avg       1.00      0.99      0.99       171\n",
      "weighted avg       0.99      0.99      0.99       171\n",
      "\n"
     ]
    },
    {
     "data": {
      "image/png": "[encoded data removed]",
      "text/plain": [
       "<Figure size 576x432 with 4 Axes>"
      ]
     },
     "metadata": {
      "needs_background": "light"
     },
     "output_type": "display_data"
    }
   ],
   "source": [
    "y_hat = gs.best_estimator_.predict_proba(X_test)[:,1]\n",
    "\n",
    "show_results(y_test, y_hat)"
   ]
  },
  {
   "cell_type": "code",
   "execution_count": null,
   "metadata": {},
   "outputs": [],
   "source": []
  }
 ],
 "metadata": {
  "kernelspec": {
   "display_name": "Python 3",
   "language": "python",
   "name": "python3"
  },
  "language_info": {
   "codemirror_mode": {
    "name": "ipython",
    "version": 3
   },
   "file_extension": ".py",
   "mimetype": "text/x-python",
   "name": "python",
   "nbconvert_exporter": "python",
   "pygments_lexer": "ipython3",
   "version": "3.6.8"
  }
 },
 "nbformat": 4,
 "nbformat_minor": 2
}
